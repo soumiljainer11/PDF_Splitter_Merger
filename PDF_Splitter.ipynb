{
  "nbformat": 4,
  "nbformat_minor": 0,
  "metadata": {
    "colab": {
      "provenance": [],
      "include_colab_link": true
    },
    "kernelspec": {
      "name": "python3",
      "display_name": "Python 3"
    },
    "language_info": {
      "name": "python"
    }
  },
  "cells": [
    {
      "cell_type": "markdown",
      "metadata": {
        "id": "view-in-github",
        "colab_type": "text"
      },
      "source": [
        "<a href=\"https://colab.research.google.com/github/soumiljainer11/PDF_Splitter_Merger/blob/main/PDF_Splitter.ipynb\" target=\"_parent\"><img src=\"https://colab.research.google.com/assets/colab-badge.svg\" alt=\"Open In Colab\"/></a>"
      ]
    },
    {
      "cell_type": "code",
      "execution_count": 14,
      "metadata": {
        "colab": {
          "base_uri": "https://localhost:8080/"
        },
        "id": "gtpWXzgUTf87",
        "outputId": "a840283b-0b9b-4055-8443-9143dae447fa"
      },
      "outputs": [
        {
          "output_type": "stream",
          "name": "stdout",
          "text": [
            "Requirement already satisfied: PyPDF2 in /usr/local/lib/python3.10/dist-packages (3.0.1)\n"
          ]
        }
      ],
      "source": [
        "!pip install PyPDF2"
      ]
    },
    {
      "cell_type": "markdown",
      "source": [
        "##For Splitting the given pdf at each page"
      ],
      "metadata": {
        "id": "vaHKR99Kxlqg"
      }
    },
    {
      "cell_type": "code",
      "source": [
        "import os\n",
        "from PyPDF2 import PdfReader, PdfWriter\n",
        "\n",
        "def split_pdf_1(input_pdf, output_1_dir): ##for splitting the given pdf at each page\n",
        "    if not os.path.exists(output1_dir):\n",
        "        os.makedirs(output1_dir)\n",
        "\n",
        "    pdf = PdfReader(open(input_pdf, \"rb\"))\n",
        "    total_pages = len(pdf.pages)\n",
        "\n",
        "    for page_num in range(total_pages):\n",
        "        part_writer = PdfWriter()\n",
        "        part_writer.add_page(pdf.pages[page_num])\n",
        "\n",
        "        part_filename = os.path.join(output1_dir, f'part_{page_num + 1}.pdf')\n",
        "\n",
        "        with open(part_filename, 'wb') as part_pdf:\n",
        "            part_writer.write(part_pdf)\n",
        "\n",
        "        print(f'Created: {part_filename}')\n",
        "\n",
        "if __name__ == \"__main__\":\n",
        "    input_pdf = '/content/Research.pdf'  # Replace with the path to your input PDF file\n",
        "    output1_dir = '/content/output1'  # Replace with the directory where you want to save the output PDFs\n",
        "    split_pdf_1(input_pdf, output1_dir)"
      ],
      "metadata": {
        "colab": {
          "base_uri": "https://localhost:8080/"
        },
        "id": "d-sWe91Mrzo-",
        "outputId": "6dbb6c11-3a86-42de-8413-891a5f9bf514"
      },
      "execution_count": 12,
      "outputs": [
        {
          "output_type": "stream",
          "name": "stdout",
          "text": [
            "Created: /content/output1/part_1.pdf\n",
            "Created: /content/output1/part_2.pdf\n",
            "Created: /content/output1/part_3.pdf\n",
            "Created: /content/output1/part_4.pdf\n",
            "Created: /content/output1/part_5.pdf\n",
            "Created: /content/output1/part_6.pdf\n",
            "Created: /content/output1/part_7.pdf\n",
            "Created: /content/output1/part_8.pdf\n"
          ]
        }
      ]
    },
    {
      "cell_type": "markdown",
      "source": [
        "##For splitting the given pdf at the specified page number"
      ],
      "metadata": {
        "id": "Zs4A8PnixsHG"
      }
    },
    {
      "cell_type": "code",
      "source": [
        "import os\n",
        "from PyPDF2 import PdfReader, PdfWriter\n",
        "\n",
        "def split_pdf(input_pdf, output_dir, split_page): ##for splitting the given pdf at the specified page number\n",
        "    if not os.path.exists(output_dir):\n",
        "        os.makedirs(output_dir)\n",
        "\n",
        "    pdf = PdfReader(open(input_pdf, \"rb\"))\n",
        "    total_pages = len(pdf.pages)\n",
        "\n",
        "    if split_page < 1 or split_page >= total_pages:\n",
        "        raise ValueError(\"Split page number must be between 1 and the total number of pages minus one.\")\n",
        "\n",
        "    part1_writer = PdfWriter()\n",
        "    part2_writer = PdfWriter()\n",
        "\n",
        "    # print(split_page)\n",
        "\n",
        "    for page_num in range(total_pages):\n",
        "        if page_num <= split_page:\n",
        "            part1_writer.add_page(pdf.pages[page_num])\n",
        "        else:\n",
        "            part2_writer.add_page(pdf.pages[page_num])\n",
        "\n",
        "    # Save the two parts\n",
        "    part1_filename = os.path.join(output_dir, 'part1.pdf')\n",
        "    part2_filename = os.path.join(output_dir, 'part2.pdf')\n",
        "\n",
        "    with open(part1_filename, 'wb') as part1_pdf:\n",
        "        part1_writer.write(part1_pdf)\n",
        "\n",
        "    with open(part2_filename, 'wb') as part2_pdf:\n",
        "        part2_writer.write(part2_pdf)\n",
        "\n",
        "    print(f'Created: {part1_filename}')\n",
        "    print(f'Created: {part2_filename}')\n",
        "\n",
        "if __name__ == \"__main__\":\n",
        "    input_pdf = '/content/Research.pdf'  # Replace with the path to your input PDF file\n",
        "    output_dir = '/content/output'  # Replace with the directory where you want to save the output PDFs\n",
        "    split_page = int(input(\"Enter the page number where you want to split the PDF: \"))\n",
        "    split_pdf(input_pdf, output_dir, split_page)\n"
      ],
      "metadata": {
        "colab": {
          "base_uri": "https://localhost:8080/"
        },
        "id": "GBkQijI1Tjum",
        "outputId": "d70ae5d8-b8d1-434d-819a-c8ab29858154"
      },
      "execution_count": 11,
      "outputs": [
        {
          "output_type": "stream",
          "name": "stdout",
          "text": [
            "Enter the page number where you want to split the PDF: 3\n",
            "Created: /content/output/part1.pdf\n",
            "Created: /content/output/part2.pdf\n"
          ]
        }
      ]
    },
    {
      "cell_type": "markdown",
      "source": [
        "##For merging the given different pdf's into 1 pdf"
      ],
      "metadata": {
        "id": "GmrAGKymxzGJ"
      }
    },
    {
      "cell_type": "code",
      "source": [
        "import os\n",
        "import PyPDF2\n",
        "from PyPDF2 import PdfReader, PdfWriter\n",
        "\n",
        "def merge_pdfs(input_pdfs, output2_pdf):\n",
        "    pdf_writer = PyPDF2.PdfWriter()\n",
        "\n",
        "    for input_pdf in input_pdfs:\n",
        "        pdf_file = open(input_pdf, 'rb')\n",
        "        pdf_reader = PyPDF2.PdfReader(pdf_file)\n",
        "        num_pages = len(pdf_reader.pages)\n",
        "\n",
        "        for page in range(num_pages):\n",
        "            pdf_writer.add_page(pdf_reader.pages[page])\n",
        "\n",
        "        pdf_file.close()\n",
        "\n",
        "    with open(output2_pdf, 'wb') as output_file:\n",
        "        pdf_writer.write(output_file)\n",
        "\n",
        "# Example usage:\n",
        "input_pdfs = [\"/content/output1/part_3.pdf\", \"/content/output1/part_6.pdf\"]\n",
        "output2_pdf = \"output2.pdf\"\n",
        "merge_pdfs(input_pdfs, output2_pdf)"
      ],
      "metadata": {
        "id": "XCOLPoPVyAGB"
      },
      "execution_count": 16,
      "outputs": []
    }
  ]
}